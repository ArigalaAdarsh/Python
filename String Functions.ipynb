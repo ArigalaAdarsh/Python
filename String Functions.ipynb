{
 "cells": [
  {
   "cell_type": "code",
   "execution_count": 1,
   "id": "58e581f6",
   "metadata": {},
   "outputs": [],
   "source": [
    "a=\"Hello\"\n",
    "b=\"World\""
   ]
  },
  {
   "cell_type": "code",
   "execution_count": 2,
   "id": "be1d42b3",
   "metadata": {},
   "outputs": [
    {
     "name": "stdout",
     "output_type": "stream",
     "text": [
      "HelloWorld\n"
     ]
    }
   ],
   "source": [
    "print(a+b)"
   ]
  },
  {
   "cell_type": "code",
   "execution_count": 4,
   "id": "b1dd0d86",
   "metadata": {},
   "outputs": [
    {
     "data": {
      "text/plain": [
       "[(0, 'H'), (1, 'e'), (2, 'l'), (3, 'l'), (4, 'o')]"
      ]
     },
     "execution_count": 4,
     "metadata": {},
     "output_type": "execute_result"
    }
   ],
   "source": [
    "list_enumerate=list(enumerate(a))\n",
    "list_enumerate"
   ]
  },
  {
   "cell_type": "code",
   "execution_count": 5,
   "id": "33cc686b",
   "metadata": {},
   "outputs": [
    {
     "data": {
      "text/plain": [
       "'            Hello             '"
      ]
     },
     "execution_count": 5,
     "metadata": {},
     "output_type": "execute_result"
    }
   ],
   "source": [
    "str1=a.center(30)\n",
    "str1"
   ]
  },
  {
   "cell_type": "code",
   "execution_count": 6,
   "id": "1bf560ed",
   "metadata": {},
   "outputs": [
    {
     "data": {
      "text/plain": [
       "'aaaaaaaaaaaaHelloaaaaaaaaaaaaa'"
      ]
     },
     "execution_count": 6,
     "metadata": {},
     "output_type": "execute_result"
    }
   ],
   "source": [
    "str1=a.center(30,\"a\")\n",
    "str1"
   ]
  },
  {
   "cell_type": "code",
   "execution_count": 7,
   "id": "e19f4184",
   "metadata": {},
   "outputs": [
    {
     "name": "stdout",
     "output_type": "stream",
     "text": [
      "65\n"
     ]
    }
   ],
   "source": [
    "ch=\"A\"\n",
    "print(ord(ch))"
   ]
  },
  {
   "cell_type": "code",
   "execution_count": 15,
   "id": "1adc54d9",
   "metadata": {},
   "outputs": [
    {
     "name": "stdout",
     "output_type": "stream",
     "text": [
      "A\n"
     ]
    }
   ],
   "source": [
    "ord1=65\n",
    "print(chr(ord1))"
   ]
  },
  {
   "cell_type": "markdown",
   "id": "532f7cf8",
   "metadata": {},
   "source": [
    "# String Methods"
   ]
  },
  {
   "cell_type": "code",
   "execution_count": 16,
   "id": "c7fa82f8",
   "metadata": {},
   "outputs": [
    {
     "name": "stdout",
     "output_type": "stream",
     "text": [
      "2\n"
     ]
    }
   ],
   "source": [
    "str1=\"This is a count Example\"\n",
    "sub=\"i\"\n",
    "print(str1.count(sub))"
   ]
  },
  {
   "cell_type": "code",
   "execution_count": 18,
   "id": "054f6ed8",
   "metadata": {},
   "outputs": [
    {
     "name": "stdout",
     "output_type": "stream",
     "text": [
      "False\n"
     ]
    }
   ],
   "source": [
    "print(str1.endswith(sub))"
   ]
  },
  {
   "cell_type": "code",
   "execution_count": 19,
   "id": "4e1bbaf9",
   "metadata": {},
   "outputs": [
    {
     "name": "stdout",
     "output_type": "stream",
     "text": [
      "False\n"
     ]
    }
   ],
   "source": [
    "print(str1.startswith(sub))"
   ]
  },
  {
   "cell_type": "code",
   "execution_count": 20,
   "id": "72fd160b",
   "metadata": {},
   "outputs": [
    {
     "name": "stdout",
     "output_type": "stream",
     "text": [
      "2\n"
     ]
    }
   ],
   "source": [
    "print(str1.find(sub))"
   ]
  },
  {
   "cell_type": "code",
   "execution_count": 21,
   "id": "34d65032",
   "metadata": {},
   "outputs": [
    {
     "name": "stdout",
     "output_type": "stream",
     "text": [
      "True\n"
     ]
    }
   ],
   "source": [
    "s=\"A123\"\n",
    "print(s.isalnum())"
   ]
  },
  {
   "cell_type": "code",
   "execution_count": 23,
   "id": "c3a7c180",
   "metadata": {},
   "outputs": [
    {
     "name": "stdout",
     "output_type": "stream",
     "text": [
      "True\n"
     ]
    }
   ],
   "source": [
    "h=\"hari\"\n",
    "print(h.isalpha())"
   ]
  },
  {
   "cell_type": "code",
   "execution_count": 25,
   "id": "305dfe37",
   "metadata": {},
   "outputs": [
    {
     "name": "stdout",
     "output_type": "stream",
     "text": [
      "True\n"
     ]
    }
   ],
   "source": [
    "digit=\"123\"\n",
    "print(m.isdigit())"
   ]
  },
  {
   "cell_type": "code",
   "execution_count": 28,
   "id": "6a60b132",
   "metadata": {},
   "outputs": [
    {
     "name": "stdout",
     "output_type": "stream",
     "text": [
      "True\n"
     ]
    }
   ],
   "source": [
    "title=\"Title\"\n",
    "print(title.istitle())"
   ]
  },
  {
   "cell_type": "code",
   "execution_count": 29,
   "id": "4b4314b2",
   "metadata": {},
   "outputs": [
    {
     "name": "stdout",
     "output_type": "stream",
     "text": [
      "False\n"
     ]
    }
   ],
   "source": [
    "title=\"Title\"\n",
    "print(title.isupper())"
   ]
  },
  {
   "cell_type": "code",
   "execution_count": 39,
   "id": "a4fe9b7a",
   "metadata": {},
   "outputs": [
    {
     "name": "stdout",
     "output_type": "stream",
     "text": [
      "False\n"
     ]
    }
   ],
   "source": [
    "title=\"Title\"\n",
    "print(title.islower())"
   ]
  },
  {
   "cell_type": "code",
   "execution_count": 40,
   "id": "2084fad1",
   "metadata": {},
   "outputs": [
    {
     "name": "stdout",
     "output_type": "stream",
     "text": [
      "               Title\n"
     ]
    }
   ],
   "source": [
    "print(title.rjust(20))"
   ]
  },
  {
   "cell_type": "code",
   "execution_count": 41,
   "id": "671878c4",
   "metadata": {},
   "outputs": [
    {
     "name": "stdout",
     "output_type": "stream",
     "text": [
      "Titleaaaaaaaaaaaaaaa\n"
     ]
    }
   ],
   "source": [
    "print(title.ljust(20,\"a\"))"
   ]
  },
  {
   "cell_type": "code",
   "execution_count": 42,
   "id": "fbd851e1",
   "metadata": {},
   "outputs": [
    {
     "name": "stdout",
     "output_type": "stream",
     "text": [
      "Hello world\n"
     ]
    }
   ],
   "source": [
    "capitalized=\"hello world\"\n",
    "print(capitalized.capitalize())"
   ]
  },
  {
   "cell_type": "code",
   "execution_count": 43,
   "id": "fc65738f",
   "metadata": {},
   "outputs": [
    {
     "name": "stdout",
     "output_type": "stream",
     "text": [
      "Hello World\n"
     ]
    }
   ],
   "source": [
    "title=\"hello world\"\n",
    "print(title.title())"
   ]
  },
  {
   "cell_type": "code",
   "execution_count": null,
   "id": "4703d18b",
   "metadata": {},
   "outputs": [],
   "source": []
  },
  {
   "cell_type": "code",
   "execution_count": null,
   "id": "72114329",
   "metadata": {},
   "outputs": [],
   "source": []
  }
 ],
 "metadata": {
  "kernelspec": {
   "display_name": "Python 3 (ipykernel)",
   "language": "python",
   "name": "python3"
  },
  "language_info": {
   "codemirror_mode": {
    "name": "ipython",
    "version": 3
   },
   "file_extension": ".py",
   "mimetype": "text/x-python",
   "name": "python",
   "nbconvert_exporter": "python",
   "pygments_lexer": "ipython3",
   "version": "3.9.13"
  }
 },
 "nbformat": 4,
 "nbformat_minor": 5
}
