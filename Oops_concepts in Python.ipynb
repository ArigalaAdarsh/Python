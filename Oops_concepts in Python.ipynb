{
 "cells": [
  {
   "cell_type": "markdown",
   "id": "7598ba3e",
   "metadata": {},
   "source": [
    "# Object Oriented Programing \n",
    "Inheritence\n",
    "\n",
    "Abstraction\n",
    "\n",
    "Encapsulation\n",
    "\n",
    "Polymorphism"
   ]
  },
  {
   "cell_type": "markdown",
   "id": "2717f78b",
   "metadata": {},
   "source": [
    "# Class\n",
    "\n",
    "class varaible"
   ]
  },
  {
   "cell_type": "code",
   "execution_count": 20,
   "id": "b24eb9b5",
   "metadata": {},
   "outputs": [
    {
     "name": "stdout",
     "output_type": "stream",
     "text": [
      "10\n"
     ]
    }
   ],
   "source": [
    "class Student:\n",
    "    a=10#class varaible\n",
    "obj=Student()\n",
    "print(obj.a)"
   ]
  },
  {
   "cell_type": "markdown",
   "id": "b93746c7",
   "metadata": {},
   "source": [
    "# Constructor\n",
    "class class_name:\n",
    "\n",
    "    def __init__(self,paramerters_list):\n",
    "    \n",
    "        #constructor body"
   ]
  },
  {
   "cell_type": "code",
   "execution_count": 21,
   "id": "4992ee3f",
   "metadata": {},
   "outputs": [
    {
     "name": "stdout",
     "output_type": "stream",
     "text": [
      "Name : Python\n"
     ]
    }
   ],
   "source": [
    "class Student:\n",
    "    def __init__(self): # CREATING CONSTRUCTOR\n",
    "        self.name = \"Python\" #instance variable\n",
    "    def info(self):#instance Method\n",
    "        print(\"Name : {}\".format(self.name))\n",
    "s = Student()\n",
    "s.info()"
   ]
  },
  {
   "cell_type": "code",
   "execution_count": 28,
   "id": "073c3bb1",
   "metadata": {},
   "outputs": [
    {
     "name": "stdout",
     "output_type": "stream",
     "text": [
      "a : 10 b:20\n",
      "a : 10 b:20\n",
      "a : 10 b:20\n",
      "a : 10 b:20\n"
     ]
    }
   ],
   "source": [
    "class Student:\n",
    "    a=10\n",
    "    b=20\n",
    "    def __init__(self):\n",
    "        self.name = \"Python\"\n",
    "    @classmethod\n",
    "    def info(cls):\n",
    "        print(\"a : {} b:{}\".format(Student.a,Student.b))\n",
    "        print(\"a : {} b:{}\".format(cls.a,cls.b))\n",
    "\n",
    "s = Student()\n",
    "s.info()\n",
    "\n",
    "Student.info()"
   ]
  },
  {
   "cell_type": "code",
   "execution_count": 7,
   "id": "dbf2050b",
   "metadata": {},
   "outputs": [
    {
     "name": "stdout",
     "output_type": "stream",
     "text": [
      "Parameterized constructor\n",
      "Name : Adarsh and Id NO : 190063\n",
      "Name : Ramu and Id NO : 190555\n"
     ]
    }
   ],
   "source": [
    "class Student:\n",
    "    def __init__(self,name,id): # parameterized constructor\n",
    "        self.name = name\n",
    "        self.id = id\n",
    "    def info(self,name,id):\n",
    "        print(\"Name : {} and Id NO : {}\".format(self.name,self.id))\n",
    "        print(\"Name : {} and Id NO : {}\".format(name,id))\n",
    "s = Student(\"Adarsh\",\"190063\") # object creation\n",
    "print(\"Parameterized constructor\")\n",
    "s.info(\"Ramu\",\"190555\") # calling info() method"
   ]
  },
  {
   "cell_type": "markdown",
   "id": "cd937460",
   "metadata": {},
   "source": [
    "# Constructor Over Loading"
   ]
  },
  {
   "cell_type": "code",
   "execution_count": 12,
   "id": "4760204d",
   "metadata": {},
   "outputs": [
    {
     "name": "stdout",
     "output_type": "stream",
     "text": [
      "Name : Adarsh\n"
     ]
    }
   ],
   "source": [
    "class Student:\n",
    "    def __init__(self):\n",
    "        pass\n",
    "    def __init__(self,name):\n",
    "        self.name = name\n",
    "    def __init__(self,name,id):\n",
    "        self.id = id\n",
    "        self.name = name\n",
    "    def info(self):\n",
    "        print(\"Name : {}\".format(self.name))\n",
    "ds = Student(\"Adarsh\",10)\n",
    "ds.info()"
   ]
  },
  {
   "cell_type": "markdown",
   "id": "a1ebbe96",
   "metadata": {},
   "source": [
    "# Inheritance"
   ]
  },
  {
   "cell_type": "code",
   "execution_count": 38,
   "id": "a794e4f9",
   "metadata": {},
   "outputs": [
    {
     "name": "stdout",
     "output_type": "stream",
     "text": [
      "10 20\n",
      "I can will eat\n"
     ]
    }
   ],
   "source": [
    " class Animal:\n",
    "    a=10\n",
    "    b=20\n",
    "    def eat(self):\n",
    "        print(\"I can eat\")\n",
    "\n",
    "class Dog(Animal):\n",
    " \n",
    "    def eat(self):\n",
    "        print(\"I can will eat\")\n",
    "    def display(self):\n",
    "        print(self.a,self.b)\n",
    "\n",
    "labrador = Dog()\n",
    "labrador.display()\n",
    "labrador.eat()\n",
    "\n",
    " "
   ]
  },
  {
   "cell_type": "markdown",
   "id": "e69bda76",
   "metadata": {},
   "source": [
    "# Abstraction"
   ]
  },
  {
   "cell_type": "code",
   "execution_count": 32,
   "id": "60d52006",
   "metadata": {},
   "outputs": [
    {
     "name": "stdout",
     "output_type": "stream",
     "text": [
      "15\n",
      "16\n"
     ]
    }
   ],
   "source": [
    "from abc import ABC, abstractmethod\n",
    "\n",
    "class Shape(ABC):\n",
    "    @abstractmethod\n",
    "    def area(self):\n",
    "        pass\n",
    "\n",
    "    @abstractmethod\n",
    "    def perimeter(self):\n",
    "        pass\n",
    "\n",
    "class Rectangle(Shape):\n",
    "    def __init__(self, length, width):\n",
    "        self.length = length\n",
    "        self.width = width\n",
    "\n",
    "    def area(self):\n",
    "        return self.length * self.width\n",
    "\n",
    "    def perimeter(self):\n",
    "        return 2 * (self.length + self.width)\n",
    "\n",
    "# Creating an object of the concrete subclass\n",
    "rect = Rectangle(5, 3)\n",
    "\n",
    "# Calling the abstract methods on the object\n",
    "print(rect.area())  # Output: 15\n",
    "print(rect.perimeter())\n",
    " "
   ]
  },
  {
   "cell_type": "markdown",
   "id": "20c3c41e",
   "metadata": {},
   "source": [
    "# Use of Decorators "
   ]
  },
  {
   "cell_type": "code",
   "execution_count": 42,
   "id": "dbfb3de1",
   "metadata": {},
   "outputs": [
    {
     "name": "stdout",
     "output_type": "stream",
     "text": [
      "HELLO\n"
     ]
    }
   ],
   "source": [
    "def uppercase_decorator(func):\n",
    "    def wrapper():\n",
    "        result = func()\n",
    "        return result.upper()\n",
    "    return wrapper\n",
    "\n",
    "@uppercase_decorator\n",
    "def greet():\n",
    "    return \"hello\"\n",
    "\n",
    "print(greet())  # Output: HELLO"
   ]
  },
  {
   "cell_type": "markdown",
   "id": "c51e4d7e",
   "metadata": {},
   "source": [
    "# Encapsulation"
   ]
  },
  {
   "cell_type": "code",
   "execution_count": 50,
   "id": "39490d4c",
   "metadata": {},
   "outputs": [
    {
     "name": "stdout",
     "output_type": "stream",
     "text": [
      "We will call the protected member of base class:  78\n",
      "we will call the modified protected member outside the class:  433\n",
      "Access the protected member of obj_1:  433\n",
      "Access the protected member of obj_2:  78\n"
     ]
    }
   ],
   "source": [
    "class Base1:  \n",
    "    def __init__(self):  \n",
    "  \n",
    "        self._p = 78  \n",
    "  \n",
    "class Derived1(Base1):  \n",
    "    def __init__(self):  \n",
    "  \n",
    "        Base1.__init__(self)  \n",
    "        print (\"We will call the protected member of base class: \",  self._p)  \n",
    "  \n",
    "        self._p = 433  \n",
    "        print (\"we will call the modified protected member outside the class: \", self._p)  \n",
    "  \n",
    "  \n",
    "obj_1 = Derived1()  \n",
    "  \n",
    "obj_2 = Base1()  \n",
    "  \n",
    "print (\"Access the protected member of obj_1: \", obj_1._p)  \n",
    "  \n",
    "print (\"Access the protected member of obj_2: \", obj_2._p)  "
   ]
  },
  {
   "cell_type": "markdown",
   "id": "c1e97bdd",
   "metadata": {},
   "source": [
    "# Polymorphism"
   ]
  },
  {
   "cell_type": "code",
   "execution_count": 51,
   "id": "bb1448a7",
   "metadata": {},
   "outputs": [
    {
     "name": "stdout",
     "output_type": "stream",
     "text": [
      "Dog barks\n",
      "Cat meows\n"
     ]
    }
   ],
   "source": [
    "class Animal:\n",
    "    def sound(self):\n",
    "        print(\"Animal makes a sound\")\n",
    "\n",
    "class Dog(Animal):\n",
    "    def sound(self):\n",
    "        print(\"Dog barks\")\n",
    "\n",
    "class Cat(Animal):\n",
    "    def sound(self):\n",
    "        print(\"Cat meows\")\n",
    "\n",
    "# Polymorphic behavior\n",
    "animals = [Dog(), Cat()]\n",
    "for animal in animals:\n",
    "    animal.sound()"
   ]
  },
  {
   "cell_type": "code",
   "execution_count": null,
   "id": "964e2a03",
   "metadata": {},
   "outputs": [],
   "source": []
  }
 ],
 "metadata": {
  "kernelspec": {
   "display_name": "Python 3 (ipykernel)",
   "language": "python",
   "name": "python3"
  },
  "language_info": {
   "codemirror_mode": {
    "name": "ipython",
    "version": 3
   },
   "file_extension": ".py",
   "mimetype": "text/x-python",
   "name": "python",
   "nbconvert_exporter": "python",
   "pygments_lexer": "ipython3",
   "version": "3.9.13"
  }
 },
 "nbformat": 4,
 "nbformat_minor": 5
}
