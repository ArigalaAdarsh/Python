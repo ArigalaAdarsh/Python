{
 "cells": [
  {
   "cell_type": "markdown",
   "id": "7598ba3e",
   "metadata": {},
   "source": [
    "# Object Oriented Programing \n",
    "Inheritence\n",
    "\n",
    "Abstraction\n",
    "\n",
    "Encapsulation\n",
    "\n",
    "Polymorphism"
   ]
  },
  {
   "cell_type": "markdown",
   "id": "7b597157",
   "metadata": {},
   "source": [
    "Inheritance"
   ]
  },
  {
   "cell_type": "markdown",
   "id": "a1ebbe96",
   "metadata": {},
   "source": [
    "# Inheritance"
   ]
  },
  {
   "cell_type": "code",
   "execution_count": 38,
   "id": "a794e4f9",
   "metadata": {},
   "outputs": [
    {
     "name": "stdout",
     "output_type": "stream",
     "text": [
      "10 20\n",
      "I can will eat\n"
     ]
    }
   ],
   "source": [
    " class Animal:\n",
    "    a=10\n",
    "    b=20\n",
    "    def eat(self):\n",
    "        print(\"I can eat\")\n",
    "\n",
    "class Dog(Animal):\n",
    " \n",
    "    def eat(self):\n",
    "        print(\"I can will eat\")\n",
    "    def display(self):\n",
    "        print(self.a,self.b)\n",
    "\n",
    "labrador = Dog()\n",
    "labrador.display()\n",
    "labrador.eat()\n",
    "\n",
    " "
   ]
  },
  {
   "cell_type": "markdown",
   "id": "e69bda76",
   "metadata": {},
   "source": [
    "# Abstraction"
   ]
  },
  {
   "cell_type": "code",
   "execution_count": 40,
   "id": "60d52006",
   "metadata": {},
   "outputs": [
    {
     "name": "stdout",
     "output_type": "stream",
     "text": [
      "15\n",
      "16\n"
     ]
    }
   ],
   "source": [
    "from abc import ABC, abstractmethod\n",
    "\n",
    "class Shape(ABC):\n",
    "    @abstractmethod\n",
    "    def area(self):\n",
    "        pass\n",
    "\n",
    "    @abstractmethod\n",
    "    def perimeter(self):\n",
    "        pass\n",
    "\n",
    "class Rectangle(Shape):\n",
    "    def __init__(self, length, width):\n",
    "        self.length = length\n",
    "        self.width = width\n",
    "\n",
    "    def area(self):\n",
    "        return self.length * self.width\n",
    "\n",
    "    def perimeter(self):\n",
    "        return 2 * (self.length + self.width)\n",
    "\n",
    "# Creating an object of the concrete subclass\n",
    "rect = Rectangle(5, 3)\n",
    "\n",
    "# Calling the abstract methods on the object\n",
    "print(rect.area())  # Output: 15\n",
    "print(rect.perimeter())"
   ]
  },
  {
   "cell_type": "markdown",
   "id": "20c3c41e",
   "metadata": {},
   "source": [
    "# Use of Decorators "
   ]
  },
  {
   "cell_type": "code",
   "execution_count": 42,
   "id": "dbfb3de1",
   "metadata": {},
   "outputs": [
    {
     "name": "stdout",
     "output_type": "stream",
     "text": [
      "HELLO\n"
     ]
    }
   ],
   "source": [
    "def uppercase_decorator(func):\n",
    "    def wrapper():\n",
    "        result = func()\n",
    "        return result.upper()\n",
    "    return wrapper\n",
    "\n",
    "@uppercase_decorator\n",
    "def greet():\n",
    "    return \"hello\"\n",
    "\n",
    "print(greet())  # Output: HELLO"
   ]
  },
  {
   "cell_type": "markdown",
   "id": "c51e4d7e",
   "metadata": {},
   "source": [
    "# Encapsulation"
   ]
  },
  {
   "cell_type": "code",
   "execution_count": 50,
   "id": "39490d4c",
   "metadata": {},
   "outputs": [
    {
     "name": "stdout",
     "output_type": "stream",
     "text": [
      "We will call the protected member of base class:  78\n",
      "we will call the modified protected member outside the class:  433\n",
      "Access the protected member of obj_1:  433\n",
      "Access the protected member of obj_2:  78\n"
     ]
    }
   ],
   "source": [
    "class Base1:  \n",
    "    def __init__(self):  \n",
    "  \n",
    "        self._p = 78  \n",
    "  \n",
    "class Derived1(Base1):  \n",
    "    def __init__(self):  \n",
    "  \n",
    "        Base1.__init__(self)  \n",
    "        print (\"We will call the protected member of base class: \",  self._p)  \n",
    "  \n",
    "        self._p = 433  \n",
    "        print (\"we will call the modified protected member outside the class: \", self._p)  \n",
    "  \n",
    "  \n",
    "obj_1 = Derived1()  \n",
    "  \n",
    "obj_2 = Base1()  \n",
    "  \n",
    "print (\"Access the protected member of obj_1: \", obj_1._p)  \n",
    "  \n",
    "print (\"Access the protected member of obj_2: \", obj_2._p)  "
   ]
  },
  {
   "cell_type": "markdown",
   "id": "c1e97bdd",
   "metadata": {},
   "source": [
    "# Polymorphism"
   ]
  },
  {
   "cell_type": "code",
   "execution_count": 51,
   "id": "bb1448a7",
   "metadata": {},
   "outputs": [
    {
     "name": "stdout",
     "output_type": "stream",
     "text": [
      "Dog barks\n",
      "Cat meows\n"
     ]
    }
   ],
   "source": [
    "class Animal:\n",
    "    def sound(self):\n",
    "        print(\"Animal makes a sound\")\n",
    "\n",
    "class Dog(Animal):\n",
    "    def sound(self):\n",
    "        print(\"Dog barks\")\n",
    "\n",
    "class Cat(Animal):\n",
    "    def sound(self):\n",
    "        print(\"Cat meows\")\n",
    "\n",
    "# Polymorphic behavior\n",
    "animals = [Dog(), Cat()]\n",
    "for animal in animals:\n",
    "    animal.sound()"
   ]
  },
  {
   "cell_type": "code",
   "execution_count": null,
   "id": "f9f60703",
   "metadata": {},
   "outputs": [],
   "source": []
  }
 ],
 "metadata": {
  "kernelspec": {
   "display_name": "Python 3 (ipykernel)",
   "language": "python",
   "name": "python3"
  },
  "language_info": {
   "codemirror_mode": {
    "name": "ipython",
    "version": 3
   },
   "file_extension": ".py",
   "mimetype": "text/x-python",
   "name": "python",
   "nbconvert_exporter": "python",
   "pygments_lexer": "ipython3",
   "version": "3.9.13"
  }
 },
 "nbformat": 4,
 "nbformat_minor": 5
}
